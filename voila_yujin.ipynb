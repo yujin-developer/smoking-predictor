{
 "cells": [
  {
   "cell_type": "markdown",
   "id": "bc60b394-4e61-4548-8916-0b4af20e625c",
   "metadata": {},
   "source": [
    "# Smoking Status Predictor Model"
   ]
  },
  {
   "cell_type": "code",
   "execution_count": null,
   "id": "b1641020-956a-4848-9392-87f447895a8f",
   "metadata": {},
   "outputs": [],
   "source": [
    "# !pip install jupyterlab voila\n",
    "# !pip install ipywidgets\n",
    "# !pip install gdown"
   ]
  },
  {
   "cell_type": "code",
   "execution_count": 1,
   "id": "1e9aedf8-d6f5-4ed9-9332-409e947d953c",
   "metadata": {},
   "outputs": [
    {
     "name": "stderr",
     "output_type": "stream",
     "text": [
      "Downloading...\n",
      "From (original): https://drive.google.com/uc?id=1e-5uqKh8UuqSM1-7aLj_rvoX7lSxeGAG\n",
      "From (redirected): https://drive.google.com/uc?id=1e-5uqKh8UuqSM1-7aLj_rvoX7lSxeGAG&confirm=t&uuid=2bf3f71a-4cea-4859-ab99-bcbebd30756c\n",
      "To: C:\\Users\\qkdl0\\.jupyter\\lab\\workspaces\\Projects\\smoking_predictor.pkl\n",
      "100%|█████████████████████████████████████████████████████████████████████████████| 1.24G/1.24G [01:49<00:00, 11.4MB/s]\n"
     ]
    },
    {
     "data": {
      "application/vnd.jupyter.widget-view+json": {
       "model_id": "67449a452b1e4010bb6c8f17495c3678",
       "version_major": 2,
       "version_minor": 0
      },
      "text/plain": [
       "VBox(children=(RadioButtons(description='Sex:', options=('Male', 'Female'), value='Male'), RadioButtons(descri…"
      ]
     },
     "metadata": {},
     "output_type": "display_data"
    }
   ],
   "source": [
    "import pandas as pd\n",
    "import joblib\n",
    "import ipywidgets as widgets\n",
    "import gdown\n",
    "from IPython.display import display, clear_output, HTML\n",
    "\n",
    "file_id = \"1AoLlHbZGLc7rLADLpX3kzH8_HnIbR32m\"\n",
    "# file_id = \"1e-5uqKh8UuqSM1-7aLj_rvoX7lSxeGAG\"\n",
    "url = f\"https://drive.google.com/uc?id={file_id}\"\n",
    "output = \"smoking_predictor.pkl\"\n",
    "\n",
    "gdown.download(url, output, quiet=False)\n",
    "\n",
    "# Load trained model\n",
    "model = joblib.load(\"smoking_predictor.pkl\")\n",
    "\n",
    "# Input widgets (all features included)\n",
    "sex_widget = widgets.RadioButtons(options=['Male', 'Female'], description='Sex:')\n",
    "drk_widget = widgets.RadioButtons(options=['Y', 'N'], description='Drink Status:')\n",
    "age_widget = widgets.IntSlider(value=40, min=10, max=100, step=1, description='Age:')\n",
    "height_widget = widgets.FloatSlider(value=170, min=130, max=210, step=0.5, description='Height:')\n",
    "weight_widget = widgets.FloatSlider(value=70, min=30, max=150, step=0.5, description='Weight:')\n",
    "waistline_widget = widgets.FloatSlider(value=85, min=50, max=150, step=0.5, description='Waistline:')\n",
    "sbp_widget = widgets.IntSlider(value=120, min=80, max=200, step=1, description='SBP:')\n",
    "dbp_widget = widgets.IntSlider(value=80, min=40, max=140, step=1, description='DBP:')\n",
    "blds_widget = widgets.FloatSlider(value=90, min=50, max=300, step=1, description='Blood Sugar:')\n",
    "tot_chole_widget = widgets.FloatSlider(value=180, min=100, max=400, step=1, description='Total Chol:')\n",
    "hdl_widget = widgets.FloatSlider(value=50, min=20, max=100, step=1, description='HDL:')\n",
    "ldl_widget = widgets.FloatSlider(value=100, min=50, max=300, step=1, description='LDL:')\n",
    "tg_widget = widgets.FloatSlider(value=150, min=50, max=500, step=1, description='Triglyceride:')\n",
    "hemo_widget = widgets.FloatSlider(value=14, min=8, max=20, step=0.1, description='Hemoglobin:')\n",
    "urine_widget = widgets.IntSlider(value=1, min=0, max=4, step=1, description='Urine Protein:')\n",
    "creatinine_widget = widgets.FloatSlider(value=1.0, min=0.5, max=2.0, step=0.1, description='Creatinine:')\n",
    "ast_widget = widgets.IntSlider(value=25, min=5, max=200, step=1, description='AST:')\n",
    "alt_widget = widgets.IntSlider(value=30, min=5, max=200, step=1, description='ALT:')\n",
    "ggtp_widget = widgets.FloatSlider(value=30, min=10, max=300, step=1, description='Gamma-GTP:')\n",
    "\n",
    "predict_button = widgets.Button(description=\"Predict Smoking Status\", layout=widgets.Layout(width='300px', height='40px'))\n",
    "output = widgets.Output()\n",
    "\n",
    "def predict_smoking_status(b):\n",
    "    with output:\n",
    "        clear_output()\n",
    "        data = {\n",
    "            'age': age_widget.value,\n",
    "            'height': height_widget.value,\n",
    "            'weight': weight_widget.value,\n",
    "            'waistline': waistline_widget.value,\n",
    "            'SBP': sbp_widget.value,\n",
    "            'DBP': dbp_widget.value,\n",
    "            'BLDS': blds_widget.value,\n",
    "            'tot_chole': tot_chole_widget.value,\n",
    "            'HDL_chole': hdl_widget.value,\n",
    "            'LDL_chole': ldl_widget.value,\n",
    "            'triglyceride': tg_widget.value,\n",
    "            'hemoglobin': hemo_widget.value,\n",
    "            'urine_protein': urine_widget.value,\n",
    "            'serum_creatinine': creatinine_widget.value,\n",
    "            'SGOT_AST': ast_widget.value,\n",
    "            'SGOT_ALT': alt_widget.value,\n",
    "            'gamma_GTP': ggtp_widget.value,\n",
    "            'sex_Female': 1 if sex_widget.value == 'Female' else 0,\n",
    "            'sex_Male': 1 if sex_widget.value == 'Male' else 0,\n",
    "            'DRK_YN_N': 1 if drk_widget.value == 'N' else 0,\n",
    "            'DRK_YN_Y': 1 if drk_widget.value == 'Y' else 0,\n",
    "        }\n",
    "\n",
    "        user_df = pd.DataFrame([data])\n",
    "        user_df = user_df.reindex(columns=model.feature_names_in_, fill_value=0)\n",
    "        pred = model.predict(user_df)[0]\n",
    "        prob = model.predict_proba(user_df)[0][pred]\n",
    "\n",
    "        # print(\"Input Features:\")\n",
    "        # display(user_df)\n",
    "\n",
    "        display(HTML(f\"\"\"\n",
    "            <p style='font-size:20px; color:gray;'>\n",
    "                We estimate that there's a <strong style='color:blue;'>{prob:.2f}</strong> probability that you are a smoker.\n",
    "            </p>\n",
    "        \"\"\"))\n",
    "        \n",
    "        if pred == 1:\n",
    "            display(HTML(\"<p style='font-size:22px; color:red; font-weight:bold;'>You might want to consider quitting smoking for your health.</p>\"))\n",
    "        else:\n",
    "            display(HTML(\"<p style='font-size:22px; color:green; font-weight:bold;'>Great! You’re likely a non-smoker.</p>\"))\n",
    "\n",
    "\n",
    "predict_button.on_click(predict_smoking_status)\n",
    "\n",
    "# Display UI\n",
    "display(widgets.VBox([\n",
    "    sex_widget, drk_widget, age_widget, height_widget, weight_widget, waistline_widget,\n",
    "    sbp_widget, dbp_widget, blds_widget, tot_chole_widget, hdl_widget,\n",
    "    ldl_widget, tg_widget, hemo_widget, urine_widget, creatinine_widget,\n",
    "    ast_widget, alt_widget, ggtp_widget, predict_button, output\n",
    "]))\n"
   ]
  },
  {
   "cell_type": "code",
   "execution_count": null,
   "id": "09783df9-b091-4722-aba7-71211956e2f9",
   "metadata": {},
   "outputs": [],
   "source": []
  }
 ],
 "metadata": {
  "kernelspec": {
   "display_name": "Python 3 (ipykernel)",
   "language": "python",
   "name": "python3"
  },
  "language_info": {
   "codemirror_mode": {
    "name": "ipython",
    "version": 3
   },
   "file_extension": ".py",
   "mimetype": "text/x-python",
   "name": "python",
   "nbconvert_exporter": "python",
   "pygments_lexer": "ipython3",
   "version": "3.10.11"
  }
 },
 "nbformat": 4,
 "nbformat_minor": 5
}
